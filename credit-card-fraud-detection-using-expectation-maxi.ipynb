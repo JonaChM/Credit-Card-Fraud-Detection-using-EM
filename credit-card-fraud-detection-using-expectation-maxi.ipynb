{
 "cells": [
  {
   "cell_type": "code",
   "execution_count": 1,
   "id": "6a1594b4",
   "metadata": {
    "_cell_guid": "b1076dfc-b9ad-4769-8c92-a6c4dae69d19",
    "_uuid": "8f2839f25d086af736a60e9eeb907d3b93b6e0e5",
    "execution": {
     "iopub.execute_input": "2025-04-02T02:24:39.922327Z",
     "iopub.status.busy": "2025-04-02T02:24:39.921938Z",
     "iopub.status.idle": "2025-04-02T02:24:42.890179Z",
     "shell.execute_reply": "2025-04-02T02:24:42.889136Z"
    },
    "papermill": {
     "duration": 2.975821,
     "end_time": "2025-04-02T02:24:42.892103",
     "exception": false,
     "start_time": "2025-04-02T02:24:39.916282",
     "status": "completed"
    },
    "tags": []
   },
   "outputs": [],
   "source": [
    "import numpy as np\n",
    "import pandas as pd\n",
    "import seaborn as sns\n",
    "import matplotlib.pyplot as plt\n",
    "import warnings\n",
    "from sklearn.preprocessing import StandardScaler\n",
    "from sklearn.mixture import GaussianMixture\n",
    "from sklearn.metrics import roc_auc_score\n",
    "from sklearn.model_selection import train_test_split\n",
    "\n",
    "%matplotlib inline\n",
    "\n",
    "from scipy.stats import zscore"
   ]
  },
  {
   "cell_type": "code",
   "execution_count": 2,
   "id": "9a467c6c",
   "metadata": {
    "execution": {
     "iopub.execute_input": "2025-04-02T02:24:42.901053Z",
     "iopub.status.busy": "2025-04-02T02:24:42.900548Z",
     "iopub.status.idle": "2025-04-02T02:24:46.847982Z",
     "shell.execute_reply": "2025-04-02T02:24:46.846979Z"
    },
    "papermill": {
     "duration": 3.953416,
     "end_time": "2025-04-02T02:24:46.849683",
     "exception": false,
     "start_time": "2025-04-02T02:24:42.896267",
     "status": "completed"
    },
    "tags": []
   },
   "outputs": [
    {
     "data": {
      "text/plain": [
       "(284807, 31)"
      ]
     },
     "execution_count": 2,
     "metadata": {},
     "output_type": "execute_result"
    }
   ],
   "source": [
    "# load and read the data\n",
    "df = pd.read_csv(\"/kaggle/input/creditcardfraud/creditcard.csv\")\n",
    "df.shape"
   ]
  },
  {
   "cell_type": "code",
   "execution_count": 3,
   "id": "aa8217bd",
   "metadata": {
    "execution": {
     "iopub.execute_input": "2025-04-02T02:24:46.858539Z",
     "iopub.status.busy": "2025-04-02T02:24:46.858240Z",
     "iopub.status.idle": "2025-04-02T02:24:46.919648Z",
     "shell.execute_reply": "2025-04-02T02:24:46.918595Z"
    },
    "papermill": {
     "duration": 0.067672,
     "end_time": "2025-04-02T02:24:46.921370",
     "exception": false,
     "start_time": "2025-04-02T02:24:46.853698",
     "status": "completed"
    },
    "tags": []
   },
   "outputs": [
    {
     "name": "stdout",
     "output_type": "stream",
     "text": [
      "<class 'pandas.core.frame.DataFrame'>\n",
      "RangeIndex: 284807 entries, 0 to 284806\n",
      "Data columns (total 31 columns):\n",
      " #   Column  Non-Null Count   Dtype  \n",
      "---  ------  --------------   -----  \n",
      " 0   Time    284807 non-null  float64\n",
      " 1   V1      284807 non-null  float64\n",
      " 2   V2      284807 non-null  float64\n",
      " 3   V3      284807 non-null  float64\n",
      " 4   V4      284807 non-null  float64\n",
      " 5   V5      284807 non-null  float64\n",
      " 6   V6      284807 non-null  float64\n",
      " 7   V7      284807 non-null  float64\n",
      " 8   V8      284807 non-null  float64\n",
      " 9   V9      284807 non-null  float64\n",
      " 10  V10     284807 non-null  float64\n",
      " 11  V11     284807 non-null  float64\n",
      " 12  V12     284807 non-null  float64\n",
      " 13  V13     284807 non-null  float64\n",
      " 14  V14     284807 non-null  float64\n",
      " 15  V15     284807 non-null  float64\n",
      " 16  V16     284807 non-null  float64\n",
      " 17  V17     284807 non-null  float64\n",
      " 18  V18     284807 non-null  float64\n",
      " 19  V19     284807 non-null  float64\n",
      " 20  V20     284807 non-null  float64\n",
      " 21  V21     284807 non-null  float64\n",
      " 22  V22     284807 non-null  float64\n",
      " 23  V23     284807 non-null  float64\n",
      " 24  V24     284807 non-null  float64\n",
      " 25  V25     284807 non-null  float64\n",
      " 26  V26     284807 non-null  float64\n",
      " 27  V27     284807 non-null  float64\n",
      " 28  V28     284807 non-null  float64\n",
      " 29  Amount  284807 non-null  float64\n",
      " 30  Class   284807 non-null  int64  \n",
      "dtypes: float64(30), int64(1)\n",
      "memory usage: 67.4 MB\n"
     ]
    }
   ],
   "source": [
    "# Get the Dataframe basic information\n",
    "df.info()"
   ]
  },
  {
   "cell_type": "code",
   "execution_count": 4,
   "id": "03a07c49",
   "metadata": {
    "execution": {
     "iopub.execute_input": "2025-04-02T02:24:46.929920Z",
     "iopub.status.busy": "2025-04-02T02:24:46.929554Z",
     "iopub.status.idle": "2025-04-02T02:24:46.964950Z",
     "shell.execute_reply": "2025-04-02T02:24:46.963773Z"
    },
    "papermill": {
     "duration": 0.041207,
     "end_time": "2025-04-02T02:24:46.966466",
     "exception": false,
     "start_time": "2025-04-02T02:24:46.925259",
     "status": "completed"
    },
    "tags": []
   },
   "outputs": [
    {
     "name": "stdout",
     "output_type": "stream",
     "text": [
      "Time      0\n",
      "V1        0\n",
      "V2        0\n",
      "V3        0\n",
      "V4        0\n",
      "V5        0\n",
      "V6        0\n",
      "V7        0\n",
      "V8        0\n",
      "V9        0\n",
      "V10       0\n",
      "V11       0\n",
      "V12       0\n",
      "V13       0\n",
      "V14       0\n",
      "V15       0\n",
      "V16       0\n",
      "V17       0\n",
      "V18       0\n",
      "V19       0\n",
      "V20       0\n",
      "V21       0\n",
      "V22       0\n",
      "V23       0\n",
      "V24       0\n",
      "V25       0\n",
      "V26       0\n",
      "V27       0\n",
      "V28       0\n",
      "Amount    0\n",
      "Class     0\n",
      "dtype: int64\n"
     ]
    }
   ],
   "source": [
    "# Check missing values\n",
    "print(df.isnull().sum())  "
   ]
  },
  {
   "cell_type": "code",
   "execution_count": 5,
   "id": "4c278d4f",
   "metadata": {
    "execution": {
     "iopub.execute_input": "2025-04-02T02:24:46.975374Z",
     "iopub.status.busy": "2025-04-02T02:24:46.975067Z",
     "iopub.status.idle": "2025-04-02T02:24:47.224869Z",
     "shell.execute_reply": "2025-04-02T02:24:47.223960Z"
    },
    "papermill": {
     "duration": 0.255876,
     "end_time": "2025-04-02T02:24:47.226400",
     "exception": false,
     "start_time": "2025-04-02T02:24:46.970524",
     "status": "completed"
    },
    "tags": []
   },
   "outputs": [
    {
     "data": {
      "image/png": "[encoded data removed]",
      "text/plain": [
       "<Figure size 640x480 with 1 Axes>"
      ]
     },
     "metadata": {},
     "output_type": "display_data"
    }
   ],
   "source": [
    "# Count of Fraud vs Non-Fraud Transactions\n",
    "sns.countplot(x=\"Class\", data=df)\n",
    "plt.title(\"Fraud vs Non-Fraud Transactions\")\n",
    "plt.show()"
   ]
  },
  {
   "cell_type": "code",
   "execution_count": 6,
   "id": "f3b69fc4",
   "metadata": {
    "execution": {
     "iopub.execute_input": "2025-04-02T02:24:47.236338Z",
     "iopub.status.busy": "2025-04-02T02:24:47.236013Z",
     "iopub.status.idle": "2025-04-02T02:24:47.244982Z",
     "shell.execute_reply": "2025-04-02T02:24:47.243884Z"
    },
    "papermill": {
     "duration": 0.015569,
     "end_time": "2025-04-02T02:24:47.246373",
     "exception": false,
     "start_time": "2025-04-02T02:24:47.230804",
     "status": "completed"
    },
    "tags": []
   },
   "outputs": [
    {
     "name": "stdout",
     "output_type": "stream",
     "text": [
      "Class\n",
      "0    284315\n",
      "1       492\n",
      "Name: count, dtype: int64\n"
     ]
    }
   ],
   "source": [
    "# Print Class distribution\n",
    "fraud_cases = df[\"Class\"].value_counts()\n",
    "print(fraud_cases)"
   ]
  },
  {
   "cell_type": "code",
   "execution_count": 7,
   "id": "8d2505bd",
   "metadata": {
    "execution": {
     "iopub.execute_input": "2025-04-02T02:24:47.256285Z",
     "iopub.status.busy": "2025-04-02T02:24:47.255966Z",
     "iopub.status.idle": "2025-04-02T02:24:47.325605Z",
     "shell.execute_reply": "2025-04-02T02:24:47.324555Z"
    },
    "papermill": {
     "duration": 0.076332,
     "end_time": "2025-04-02T02:24:47.327247",
     "exception": false,
     "start_time": "2025-04-02T02:24:47.250915",
     "status": "completed"
    },
    "tags": []
   },
   "outputs": [
    {
     "data": {
      "text/html": [
       "<div>\n",
       "<style scoped>\n",
       "    .dataframe tbody tr th:only-of-type {\n",
       "        vertical-align: middle;\n",
       "    }\n",
       "\n",
       "    .dataframe tbody tr th {\n",
       "        vertical-align: top;\n",
       "    }\n",
       "\n",
       "    .dataframe thead th {\n",
       "        text-align: right;\n",
       "    }\n",
       "</style>\n",
       "<table border=\"1\" class=\"dataframe\">\n",
       "  <thead>\n",
       "    <tr style=\"text-align: right;\">\n",
       "      <th></th>\n",
       "      <th>V1</th>\n",
       "      <th>V2</th>\n",
       "      <th>V3</th>\n",
       "      <th>V4</th>\n",
       "      <th>V5</th>\n",
       "      <th>V6</th>\n",
       "      <th>V7</th>\n",
       "      <th>V8</th>\n",
       "      <th>V9</th>\n",
       "      <th>V10</th>\n",
       "      <th>...</th>\n",
       "      <th>V21</th>\n",
       "      <th>V22</th>\n",
       "      <th>V23</th>\n",
       "      <th>V24</th>\n",
       "      <th>V25</th>\n",
       "      <th>V26</th>\n",
       "      <th>V27</th>\n",
       "      <th>V28</th>\n",
       "      <th>Amount</th>\n",
       "      <th>Class</th>\n",
       "    </tr>\n",
       "  </thead>\n",
       "  <tbody>\n",
       "    <tr>\n",
       "      <th>0</th>\n",
       "      <td>-1.359807</td>\n",
       "      <td>-0.072781</td>\n",
       "      <td>2.536347</td>\n",
       "      <td>1.378155</td>\n",
       "      <td>-0.338321</td>\n",
       "      <td>0.462388</td>\n",
       "      <td>0.239599</td>\n",
       "      <td>0.098698</td>\n",
       "      <td>0.363787</td>\n",
       "      <td>0.090794</td>\n",
       "      <td>...</td>\n",
       "      <td>-0.018307</td>\n",
       "      <td>0.277838</td>\n",
       "      <td>-0.110474</td>\n",
       "      <td>0.066928</td>\n",
       "      <td>0.128539</td>\n",
       "      <td>-0.189115</td>\n",
       "      <td>0.133558</td>\n",
       "      <td>-0.021053</td>\n",
       "      <td>0.244964</td>\n",
       "      <td>0</td>\n",
       "    </tr>\n",
       "    <tr>\n",
       "      <th>1</th>\n",
       "      <td>1.191857</td>\n",
       "      <td>0.266151</td>\n",
       "      <td>0.166480</td>\n",
       "      <td>0.448154</td>\n",
       "      <td>0.060018</td>\n",
       "      <td>-0.082361</td>\n",
       "      <td>-0.078803</td>\n",
       "      <td>0.085102</td>\n",
       "      <td>-0.255425</td>\n",
       "      <td>-0.166974</td>\n",
       "      <td>...</td>\n",
       "      <td>-0.225775</td>\n",
       "      <td>-0.638672</td>\n",
       "      <td>0.101288</td>\n",
       "      <td>-0.339846</td>\n",
       "      <td>0.167170</td>\n",
       "      <td>0.125895</td>\n",
       "      <td>-0.008983</td>\n",
       "      <td>0.014724</td>\n",
       "      <td>-0.342475</td>\n",
       "      <td>0</td>\n",
       "    </tr>\n",
       "    <tr>\n",
       "      <th>2</th>\n",
       "      <td>-1.358354</td>\n",
       "      <td>-1.340163</td>\n",
       "      <td>1.773209</td>\n",
       "      <td>0.379780</td>\n",
       "      <td>-0.503198</td>\n",
       "      <td>1.800499</td>\n",
       "      <td>0.791461</td>\n",
       "      <td>0.247676</td>\n",
       "      <td>-1.514654</td>\n",
       "      <td>0.207643</td>\n",
       "      <td>...</td>\n",
       "      <td>0.247998</td>\n",
       "      <td>0.771679</td>\n",
       "      <td>0.909412</td>\n",
       "      <td>-0.689281</td>\n",
       "      <td>-0.327642</td>\n",
       "      <td>-0.139097</td>\n",
       "      <td>-0.055353</td>\n",
       "      <td>-0.059752</td>\n",
       "      <td>1.160686</td>\n",
       "      <td>0</td>\n",
       "    </tr>\n",
       "    <tr>\n",
       "      <th>3</th>\n",
       "      <td>-0.966272</td>\n",
       "      <td>-0.185226</td>\n",
       "      <td>1.792993</td>\n",
       "      <td>-0.863291</td>\n",
       "      <td>-0.010309</td>\n",
       "      <td>1.247203</td>\n",
       "      <td>0.237609</td>\n",
       "      <td>0.377436</td>\n",
       "      <td>-1.387024</td>\n",
       "      <td>-0.054952</td>\n",
       "      <td>...</td>\n",
       "      <td>-0.108300</td>\n",
       "      <td>0.005274</td>\n",
       "      <td>-0.190321</td>\n",
       "      <td>-1.175575</td>\n",
       "      <td>0.647376</td>\n",
       "      <td>-0.221929</td>\n",
       "      <td>0.062723</td>\n",
       "      <td>0.061458</td>\n",
       "      <td>0.140534</td>\n",
       "      <td>0</td>\n",
       "    </tr>\n",
       "    <tr>\n",
       "      <th>4</th>\n",
       "      <td>-1.158233</td>\n",
       "      <td>0.877737</td>\n",
       "      <td>1.548718</td>\n",
       "      <td>0.403034</td>\n",
       "      <td>-0.407193</td>\n",
       "      <td>0.095921</td>\n",
       "      <td>0.592941</td>\n",
       "      <td>-0.270533</td>\n",
       "      <td>0.817739</td>\n",
       "      <td>0.753074</td>\n",
       "      <td>...</td>\n",
       "      <td>-0.009431</td>\n",
       "      <td>0.798278</td>\n",
       "      <td>-0.137458</td>\n",
       "      <td>0.141267</td>\n",
       "      <td>-0.206010</td>\n",
       "      <td>0.502292</td>\n",
       "      <td>0.219422</td>\n",
       "      <td>0.215153</td>\n",
       "      <td>-0.073403</td>\n",
       "      <td>0</td>\n",
       "    </tr>\n",
       "  </tbody>\n",
       "</table>\n",
       "<p>5 rows × 30 columns</p>\n",
       "</div>"
      ],
      "text/plain": [
       "         V1        V2        V3        V4        V5        V6        V7  \\\n",
       "0 -1.359807 -0.072781  2.536347  1.378155 -0.338321  0.462388  0.239599   \n",
       "1  1.191857  0.266151  0.166480  0.448154  0.060018 -0.082361 -0.078803   \n",
       "2 -1.358354 -1.340163  1.773209  0.379780 -0.503198  1.800499  0.791461   \n",
       "3 -0.966272 -0.185226  1.792993 -0.863291 -0.010309  1.247203  0.237609   \n",
       "4 -1.158233  0.877737  1.548718  0.403034 -0.407193  0.095921  0.592941   \n",
       "\n",
       "         V8        V9       V10  ...       V21       V22       V23       V24  \\\n",
       "0  0.098698  0.363787  0.090794  ... -0.018307  0.277838 -0.110474  0.066928   \n",
       "1  0.085102 -0.255425 -0.166974  ... -0.225775 -0.638672  0.101288 -0.339846   \n",
       "2  0.247676 -1.514654  0.207643  ...  0.247998  0.771679  0.909412 -0.689281   \n",
       "3  0.377436 -1.387024 -0.054952  ... -0.108300  0.005274 -0.190321 -1.175575   \n",
       "4 -0.270533  0.817739  0.753074  ... -0.009431  0.798278 -0.137458  0.141267   \n",
       "\n",
       "        V25       V26       V27       V28    Amount  Class  \n",
       "0  0.128539 -0.189115  0.133558 -0.021053  0.244964      0  \n",
       "1  0.167170  0.125895 -0.008983  0.014724 -0.342475      0  \n",
       "2 -0.327642 -0.139097 -0.055353 -0.059752  1.160686      0  \n",
       "3  0.647376 -0.221929  0.062723  0.061458  0.140534      0  \n",
       "4 -0.206010  0.502292  0.219422  0.215153 -0.073403      0  \n",
       "\n",
       "[5 rows x 30 columns]"
      ]
     },
     "execution_count": 7,
     "metadata": {},
     "output_type": "execute_result"
    }
   ],
   "source": [
    "# Normalize Amount column (since PCA was not applied to it)\n",
    "df[\"Amount\"] = StandardScaler().fit_transform(df[[\"Amount\"]])\n",
    "\n",
    "# Drop unnecessary columns\n",
    "df = df.drop(columns=[\"Time\"])  # Drop time since it's not useful for EM\n",
    "\n",
    "# Print new dataset info\n",
    "df.head()"
   ]
  },
  {
   "cell_type": "markdown",
   "id": "350016c1",
   "metadata": {
    "papermill": {
     "duration": 0.004467,
     "end_time": "2025-04-02T02:24:47.336603",
     "exception": false,
     "start_time": "2025-04-02T02:24:47.332136",
     "status": "completed"
    },
    "tags": []
   },
   "source": [
    "# 1. What Do We Apply the EM Algorithm To?\n",
    "The Expectation-Maximization (EM) algorithm is generally applied to unlabeled data where we assume that the data points belong to different underlying distributions (or clusters) but we don’t know which ones.\n",
    "\n",
    "For Credit Card Fraud Detection, we typically apply EM to:\n",
    "\n",
    "* All numerical features (like PCA-transformed variables in creditcard.csv).\n",
    "\n",
    "* Transaction Amount (since large transactions could indicate fraud).\n",
    "\n",
    "* Other engineered features (such as frequency of transactions per user).\n",
    "\n",
    "The goal is to find hidden clusters in the data:\n",
    "\n",
    "* One cluster may represent normal transactions.\n",
    "\n",
    "* Another may represent fraudulent transactions."
   ]
  },
  {
   "cell_type": "markdown",
   "id": "dcc97f09",
   "metadata": {
    "papermill": {
     "duration": 0.004348,
     "end_time": "2025-04-02T02:24:47.345678",
     "exception": false,
     "start_time": "2025-04-02T02:24:47.341330",
     "status": "completed"
    },
    "tags": []
   },
   "source": [
    "# 2. How is the EM Algorithm Usually Implemented?\n",
    "The EM algorithm is used to estimate the parameters of a mixture of distributions (e.g., Gaussian Mixture Models). It has two key steps:\n",
    "\n",
    "Step 1: Initialize Parameters\n",
    "Assume the data follows a mixture of K Gaussian distributions (for fraud detection, K = 2 is a common choice: fraud vs non-fraud).\n",
    "\n",
    "* Initialize means, variances, and weights of each Gaussian.\n",
    "\n",
    "Step 2: Expectation (E-Step)\n",
    "* Compute the probability that each data point belongs to each cluster using Bayes’ Theorem.\n",
    "\n",
    "Step 3: Maximization (M-Step)\n",
    "* Recalculate the means, variances, and weights to maximize the likelihood of the data given the assignments.\n",
    "\n",
    "Step 4: Iterate Until Convergence\n",
    "* Repeat the E-step and M-step until the change in parameters is small."
   ]
  },
  {
   "cell_type": "markdown",
   "id": "98059bf4",
   "metadata": {
    "papermill": {
     "duration": 0.004282,
     "end_time": "2025-04-02T02:24:47.354594",
     "exception": false,
     "start_time": "2025-04-02T02:24:47.350312",
     "status": "completed"
    },
    "tags": []
   },
   "source": [
    "# 3. Implementing EM for Credit Card Fraud Detection\n",
    "We can use Gaussian Mixture Models (GMM), which is a probabilistic clustering method based on EM."
   ]
  },
  {
   "cell_type": "code",
   "execution_count": 8,
   "id": "9141e7e5",
   "metadata": {
    "execution": {
     "iopub.execute_input": "2025-04-02T02:24:47.365104Z",
     "iopub.status.busy": "2025-04-02T02:24:47.364664Z",
     "iopub.status.idle": "2025-04-02T02:24:47.484625Z",
     "shell.execute_reply": "2025-04-02T02:24:47.483532Z"
    },
    "papermill": {
     "duration": 0.126945,
     "end_time": "2025-04-02T02:24:47.486173",
     "exception": false,
     "start_time": "2025-04-02T02:24:47.359228",
     "status": "completed"
    },
    "tags": []
   },
   "outputs": [
    {
     "name": "stdout",
     "output_type": "stream",
     "text": [
      "Training Set: (227845, 29), Testing Set: (56962, 29)\n"
     ]
    }
   ],
   "source": [
    "# Drop the 'Class' column since it's unsupervised learning\n",
    "X = df.drop(columns=[\"Class\"])\n",
    "y = df[\"Class\"]  # Keep for evaluation later\n",
    "\n",
    "# Split into 80% training, 20% testing\n",
    "X_train, X_test, y_train, y_test = train_test_split(X, y, test_size=0.2, random_state=42)\n",
    "\n",
    "print(f\"Training Set: {X_train.shape}, Testing Set: {X_test.shape}\")\n"
   ]
  },
  {
   "cell_type": "markdown",
   "id": "bde4ba00",
   "metadata": {
    "papermill": {
     "duration": 0.004576,
     "end_time": "2025-04-02T02:24:47.495727",
     "exception": false,
     "start_time": "2025-04-02T02:24:47.491151",
     "status": "completed"
    },
    "tags": []
   },
   "source": [
    "# 4. How to Evaluate EM for Fraud Detection?\n",
    "Since we have true fraud labels (Class), we can evaluate how well EM detects fraud by:\n",
    "\n",
    "Checking Cluster Assignments vs. True Labels\n",
    "\n",
    "Using ROC-AUC Score to measure how well it distinguishes fraud:"
   ]
  },
  {
   "cell_type": "code",
   "execution_count": 9,
   "id": "79c8dcc3",
   "metadata": {
    "execution": {
     "iopub.execute_input": "2025-04-02T02:24:47.506480Z",
     "iopub.status.busy": "2025-04-02T02:24:47.506120Z",
     "iopub.status.idle": "2025-04-02T02:25:18.699662Z",
     "shell.execute_reply": "2025-04-02T02:25:18.698592Z"
    },
    "papermill": {
     "duration": 31.205371,
     "end_time": "2025-04-02T02:25:18.705865",
     "exception": false,
     "start_time": "2025-04-02T02:24:47.500494",
     "status": "completed"
    },
    "tags": []
   },
   "outputs": [
    {
     "name": "stdout",
     "output_type": "stream",
     "text": [
      "\n",
      "Testing covariance type: full\n",
      "Clusters: 2, AUC Score: 0.7128835144074511\n",
      "Clusters: 3, AUC Score: 0.1482865849631918\n",
      "Clusters: 4, AUC Score: 0.46998100731570064\n",
      "\n",
      "Testing covariance type: diag\n",
      "Clusters: 2, AUC Score: 0.9312426785570729\n",
      "Clusters: 3, AUC Score: 0.9402297497502095\n",
      "Clusters: 4, AUC Score: 0.059025724105061274\n",
      "\n",
      "Testing covariance type: tied\n",
      "Clusters: 2, AUC Score: 0.6700427550733292\n",
      "Clusters: 3, AUC Score: 0.48139061477151357\n",
      "Clusters: 4, AUC Score: 0.5116942106048947\n",
      "\n",
      "Testing covariance type: spherical\n",
      "Clusters: 2, AUC Score: 0.9512183742377085\n",
      "Clusters: 3, AUC Score: 0.9559218629770423\n",
      "Clusters: 4, AUC Score: 0.056320109993913146\n",
      "\n",
      "Best Model Parameters: {'covariance_type': 'spherical', 'n_clusters': 3}\n",
      "Best Model AUC Score: 0.9559218629770423\n"
     ]
    }
   ],
   "source": [
    "covariance_types = ['full', 'diag', 'tied', 'spherical']\n",
    "best_auc = 0\n",
    "best_model = None\n",
    "best_params = {}\n",
    "\n",
    "# Iterate through different covariance types\n",
    "for cov_type in covariance_types:\n",
    "    print(f\"\\nTesting covariance type: {cov_type}\")\n",
    "    \n",
    "    # Iterate through different numbers of clusters\n",
    "    for n_clusters in range(2, 5):\n",
    "        gmm = GaussianMixture(n_components=n_clusters, covariance_type=cov_type, random_state=42)\n",
    "        \n",
    "        # Train on training set\n",
    "        gmm.fit(X_train)\n",
    "        \n",
    "        # Predict fraud probabilities on test set\n",
    "        test_probs = gmm.predict_proba(X_test)[:, 1]  # Probability of fraud\n",
    "        \n",
    "        # Evaluate with ROC-AUC score\n",
    "        auc_score = roc_auc_score(y_test, test_probs)\n",
    "        \n",
    "        print(f\"Clusters: {n_clusters}, AUC Score: {auc_score}\")\n",
    "        \n",
    "        # Save the best model\n",
    "        if auc_score > best_auc:\n",
    "            best_auc = auc_score\n",
    "            best_model = gmm\n",
    "            best_params = {'covariance_type': cov_type, 'n_clusters': n_clusters}\n",
    "\n",
    "print(\"\\nBest Model Parameters:\", best_params)\n",
    "print(\"Best Model AUC Score:\", best_auc)"
   ]
  },
  {
   "cell_type": "markdown",
   "id": "0010440c",
   "metadata": {
    "papermill": {
     "duration": 0.005099,
     "end_time": "2025-04-02T02:25:18.716388",
     "exception": false,
     "start_time": "2025-04-02T02:25:18.711289",
     "status": "completed"
    },
    "tags": []
   },
   "source": [
    "# Conclusions:"
   ]
  },
  {
   "cell_type": "markdown",
   "id": "eb983d08",
   "metadata": {
    "papermill": {
     "duration": 0.005083,
     "end_time": "2025-04-02T02:25:18.726720",
     "exception": false,
     "start_time": "2025-04-02T02:25:18.721637",
     "status": "completed"
    },
    "tags": []
   },
   "source": [
    "# 1. Best Performing Model\n",
    "* The best covariance type was spherical with 3 clusters (n_clusters=3).\n",
    "\n",
    "* It achieved the highest AUC score of 0.9559, meaning it best distinguishes fraud from non-fraud.\n",
    "\n",
    "* The second-best performer was diag covariance with 3 clusters, achieving 0.9402 AUC."
   ]
  },
  {
   "cell_type": "markdown",
   "id": "7e7c6030",
   "metadata": {
    "papermill": {
     "duration": 0.005202,
     "end_time": "2025-04-02T02:25:18.737289",
     "exception": false,
     "start_time": "2025-04-02T02:25:18.732087",
     "status": "completed"
    },
    "tags": []
   },
   "source": [
    "# 2. Performance Comparison Across Covariance Types\n",
    "🔹 Full Covariance\n",
    "Best AUC: 0.7129 (2 clusters)\n",
    "\n",
    "Performance dropped significantly for 3 and 4 clusters.\n",
    "\n",
    "Suggests that full covariance is not ideal for this dataset, possibly due to high complexity in parameter estimation.\n",
    "\n",
    "🔹 Diagonal Covariance (diag)\n",
    "Best AUC: 0.9402 (3 clusters)\n",
    "\n",
    "Generally performed better than full and tied, meaning feature independence assumptions might work well.\n",
    "\n",
    "Performance collapsed at 4 clusters (AUC = 0.059), indicating overfitting or poorly separated clusters.\n",
    "\n",
    "🔹 Tied Covariance\n",
    "Best AUC: 0.6700 (2 clusters)\n",
    "\n",
    "Consistently underperformed, suggesting the assumption of a shared covariance structure was too restrictive for this dataset.\n",
    "\n",
    "🔹 Spherical Covariance (Best Choice)\n",
    "Best AUC: 0.9559 (3 clusters)\n",
    "\n",
    "Highest fraud detection capability.\n",
    "\n",
    "Like diag, it collapsed at 4 clusters (AUC = 0.056), reinforcing that too many clusters reduce accuracy."
   ]
  },
  {
   "cell_type": "markdown",
   "id": "acfbb24d",
   "metadata": {
    "papermill": {
     "duration": 0.00499,
     "end_time": "2025-04-02T02:25:18.747580",
     "exception": false,
     "start_time": "2025-04-02T02:25:18.742590",
     "status": "completed"
    },
    "tags": []
   },
   "source": [
    "Final Nores:\n",
    "* More clusters don’t always improve results—increasing from 3 to 4 clusters caused a drastic drop in AUC across all covariance types.\n",
    "* The poor performance of full and tied suggests that simpler covariance structures (like spherical and diag) are more effective for fraud detection in this dataset."
   ]
  }
 ],
 "metadata": {
  "kaggle": {
   "accelerator": "none",
   "dataSources": [
    {
     "datasetId": 310,
     "sourceId": 23498,
     "sourceType": "datasetVersion"
    }
   ],
   "dockerImageVersionId": 30918,
   "isGpuEnabled": false,
   "isInternetEnabled": false,
   "language": "python",
   "sourceType": "notebook"
  },
  "kernelspec": {
   "display_name": "Python 3",
   "language": "python",
   "name": "python3"
  },
  "language_info": {
   "codemirror_mode": {
    "name": "ipython",
    "version": 3
   },
   "file_extension": ".py",
   "mimetype": "text/x-python",
   "name": "python",
   "nbconvert_exporter": "python",
   "pygments_lexer": "ipython3",
   "version": "3.10.12"
  },
  "papermill": {
   "default_parameters": {},
   "duration": 42.196583,
   "end_time": "2025-04-02T02:25:19.473728",
   "environment_variables": {},
   "exception": null,
   "input_path": "__notebook__.ipynb",
   "output_path": "__notebook__.ipynb",
   "parameters": {},
   "start_time": "2025-04-02T02:24:37.277145",
   "version": "2.6.0"
  }
 },
 "nbformat": 4,
 "nbformat_minor": 5
}
